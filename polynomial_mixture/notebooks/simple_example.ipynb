{
 "cells": [
  {
   "cell_type": "code",
   "execution_count": 1,
   "metadata": {},
   "outputs": [],
   "source": [
    "import sys\n",
    "if not \"../../\" in sys.path:\n",
    "    sys.path = [\"../../\"] + sys.path"
   ]
  },
  {
   "cell_type": "code",
   "execution_count": 2,
   "metadata": {},
   "outputs": [],
   "source": [
    "import polynomial_mixture.polynomial_mixture as pm\n",
    "import numpy as np\n",
    "import matplotlib.pyplot as plt"
   ]
  },
  {
   "cell_type": "code",
   "execution_count": 3,
   "metadata": {},
   "outputs": [],
   "source": [
    "def create_data(polynomial_degree):\n",
    "    coeffs = np.array([[1.0] + [0.1] * polynomial_degree]).T\n",
    "    X = np.vstack([np.linspace(-10, 10) ** k for k in range(polynomial_degree + 1)]).T\n",
    "    y = np.matmul(X, coeffs)\n",
    "    return X, y\n",
    "\n",
    "X, y = create_data(3)"
   ]
  },
  {
   "cell_type": "code",
   "execution_count": 4,
   "metadata": {},
   "outputs": [],
   "source": [
    "model = pm.BayesianPolynomialMixture().create_model(X)"
   ]
  },
  {
   "cell_type": "code",
   "execution_count": 5,
   "metadata": {},
   "outputs": [],
   "source": [
    "sample = model.sample()"
   ]
  },
  {
   "cell_type": "code",
   "execution_count": 6,
   "metadata": {},
   "outputs": [
    {
     "data": {
      "text/plain": [
       "array([2.49925878e-05, 9.97776920e-01, 4.61393686e-06, 2.19347309e-03,\n",
       "       4.61126875e-16])"
      ]
     },
     "execution_count": 6,
     "metadata": {},
     "output_type": "execute_result"
    }
   ],
   "source": [
    "sample[\"mixture_probs\"].numpy()"
   ]
  },
  {
   "cell_type": "code",
   "execution_count": 7,
   "metadata": {},
   "outputs": [
    {
     "data": {
      "text/plain": [
       "1.2348556825331614"
      ]
     },
     "execution_count": 7,
     "metadata": {},
     "output_type": "execute_result"
    }
   ],
   "source": [
    "sample[\"scale\"].numpy()"
   ]
  },
  {
   "cell_type": "code",
   "execution_count": 8,
   "metadata": {},
   "outputs": [
    {
     "data": {
      "text/plain": [
       "array([[-0.3197871 , -0.08179278,  0.1097657 ,  0.04352444],\n",
       "       [-0.30876026, -0.01426684, -0.24655824,  0.8927278 ],\n",
       "       [ 0.08032082,  0.00989176,  0.02237188,  0.00816947],\n",
       "       [ 0.42474296,  2.23471729,  2.49325405,  3.62604817],\n",
       "       [ 0.18442851,  0.19904537,  0.10826797,  0.15288714]])"
      ]
     },
     "execution_count": 8,
     "metadata": {},
     "output_type": "execute_result"
    }
   ],
   "source": [
    "sample[\"coefficients\"].numpy()"
   ]
  },
  {
   "cell_type": "code",
   "execution_count": 9,
   "metadata": {},
   "outputs": [
    {
     "name": "stdout",
     "output_type": "stream",
     "text": [
      "[-0.30876026 -0.01426684 -0.24655824  0.8927278 ]\n"
     ]
    }
   ],
   "source": [
    "most_likely_component = sample[\"coefficients\"].numpy()[np.argmax(sample[\"mixture_probs\"])]\n",
    "print(most_likely_component)"
   ]
  },
  {
   "cell_type": "code",
   "execution_count": 10,
   "metadata": {},
   "outputs": [
    {
     "data": {
      "text/plain": [
       "(-917.688090919106, 867.635646203321)"
      ]
     },
     "execution_count": 10,
     "metadata": {},
     "output_type": "execute_result"
    },
    {
     "data": {
      "image/png": "[encoded data removed]",
      "text/plain": [
       "<Figure size 432x288 with 1 Axes>"
      ]
     },
     "metadata": {
      "needs_background": "light"
     },
     "output_type": "display_data"
    }
   ],
   "source": [
    "plt.plot(X[:, 1], sample[\"mixture\"], \".\")\n",
    "for coefficients in sample[\"coefficients\"]:\n",
    "    plt.plot(X[:, 1], np.matmul(X, coefficients))\n",
    "plt.ylim([np.min(sample[\"mixture\"]), np.max(sample[\"mixture\"])])"
   ]
  }
 ],
 "metadata": {
  "kernelspec": {
   "display_name": "Python 3",
   "language": "python",
   "name": "python3"
  },
  "language_info": {
   "codemirror_mode": {
    "name": "ipython",
    "version": 3
   },
   "file_extension": ".py",
   "mimetype": "text/x-python",
   "name": "python",
   "nbconvert_exporter": "python",
   "pygments_lexer": "ipython3",
   "version": "3.8.2"
  }
 },
 "nbformat": 4,
 "nbformat_minor": 4
}
